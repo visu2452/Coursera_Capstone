{
 "cells": [
  {
   "cell_type": "markdown",
   "metadata": {
    "collapsed": true
   },
   "source": [
    "# Capstone Project - The Battle of the Neighbourhoods (Week 1)"
   ]
  },
  {
   "cell_type": "markdown",
   "metadata": {},
   "source": [
    "## Introduction and Business Problem"
   ]
  },
  {
   "cell_type": "markdown",
   "metadata": {},
   "source": [
    "### Background:"
   ]
  },
  {
   "cell_type": "markdown",
   "metadata": {},
   "source": [
    "A prolific Swedish restaurateur, Torbjorn Magnusson, wants to expand his business outside his local\n",
    "market. Torbjorn wants to expand his own brand and as such has chosen New York City as his prime\n",
    "location for his first restaurant overseas. However, the location within the city poses its own set of\n",
    "risks. Specifically, Torbjorn wants a location within New York which is safe and family friendly, as that\n",
    "is at the core of his success in Sweden. The cuisine he specialises in is a unique mixture of Swedish\n",
    "classics such as meatballs, salmon etc. infused with recipes derived from local demographics. In other\n",
    "words, he opens his restaurants in areas with a high number of immigrants and chooses to give the\n",
    "local dishes an extra kick with select herbs and spices which represent the fabric of local communities. This makes the recipes extremely popular as they appeal to everyone’s taste."
   ]
  },
  {
   "cell_type": "markdown",
   "metadata": {},
   "source": [
    "### Problem Formulation:"
   ]
  },
  {
   "cell_type": "markdown",
   "metadata": {},
   "source": [
    "The location of Torbjorn’s restaurant has to be in a safe area. Ideally, it would be on an intersection as\n",
    "that would give his restaurant the most visibility. However, the intersection should be in a borough\n",
    "with the least amount of vehicle collisions. Once the location has been deemed to be safe, an\n",
    "overview of the existing restaurants, and more importantly, the cuisines they cater to will be\n",
    "completed such that Torbjorn can formulate the exact recipes which will make his restaurant a\n",
    "success story."
   ]
  },
  {
   "cell_type": "markdown",
   "metadata": {},
   "source": [
    "### Data Sources and usage:"
   ]
  },
  {
   "cell_type": "markdown",
   "metadata": {},
   "source": [
    "The predominant data source comes from the NYC Open Data page and can be found below:\n",
    "\n",
    "https://data.cityofnewyork.us/Public-Safety/NYPD-Motor-Vehicle-Collisions/h9gi-nx95\n",
    "\n",
    "Vehicle collisions range from 2012 to 2019 and list the location coordinates (longitude and latitude) as\n",
    "well as the contributing factors from both vehicles in the collision. 1) The data will be cleaned, analysed and presented as a chart which shows the borough with\n",
    "the least amount of collisions. 2) The contributing factors will be presented as a word cloud to have an overview of the factors\n",
    "responsible for the collisions. 3) Time permitting, an optional analysis would be conducted on the biggest contributing factors\n",
    "to get an in-depth look in the fabric of societal, social and economic issues which were\n",
    "responsible for the contributing factors\n",
    "The second source of data is also freely available from NYU. It gives the names of neighborhoods in\n",
    "New York City and can be found below:\n",
    "\n",
    "https://geo.nyu.edu/catalog/nyu_2451_34572"
   ]
  },
  {
   "cell_type": "code",
   "execution_count": null,
   "metadata": {},
   "outputs": [],
   "source": []
  }
 ],
 "metadata": {
  "kernelspec": {
   "display_name": "Python 3.6",
   "language": "python",
   "name": "python3"
  },
  "language_info": {
   "codemirror_mode": {
    "name": "ipython",
    "version": 3
   },
   "file_extension": ".py",
   "mimetype": "text/x-python",
   "name": "python",
   "nbconvert_exporter": "python",
   "pygments_lexer": "ipython3",
   "version": "3.6.9"
  }
 },
 "nbformat": 4,
 "nbformat_minor": 1
}
